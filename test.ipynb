{
 "cells": [
  {
   "cell_type": "code",
   "execution_count": 2,
   "metadata": {},
   "outputs": [],
   "source": [
    "import os \n",
    "dir_a = \"/home/songbo/songbo/.cache/vg/images/VG_100K/\"\n",
    "dir_b = \"/home/songbo/songbo/.cache/vg/images/VG_100K_2/\"\n",
    "a_list = os.listdir(dir_a)\n",
    "b_list = os.listdir(dir_b)\n",
    "ab_list = a_list + b_list\n",
    "dir_c = \"/home/songbo/songbo/.cache/vg/images/image/\"\n",
    "c_list = os.listdir(dir_a)\n"
   ]
  },
  {
   "cell_type": "code",
   "execution_count": 4,
   "metadata": {},
   "outputs": [
    {
     "data": {
      "text/plain": [
       "[]"
      ]
     },
     "execution_count": 4,
     "metadata": {},
     "output_type": "execute_result"
    }
   ],
   "source": [
    "list(set(a_list) & set(b_list)) "
   ]
  }
 ],
 "metadata": {
  "kernelspec": {
   "display_name": "chat",
   "language": "python",
   "name": "python3"
  },
  "language_info": {
   "codemirror_mode": {
    "name": "ipython",
    "version": 3
   },
   "file_extension": ".py",
   "mimetype": "text/x-python",
   "name": "python",
   "nbconvert_exporter": "python",
   "pygments_lexer": "ipython3",
   "version": "3.8.16"
  },
  "orig_nbformat": 4
 },
 "nbformat": 4,
 "nbformat_minor": 2
}
