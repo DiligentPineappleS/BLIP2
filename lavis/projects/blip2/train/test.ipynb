{
 "cells": [
  {
   "cell_type": "code",
   "execution_count": 1,
   "metadata": {},
   "outputs": [
    {
     "data": {
      "text/plain": [
       "{'model': {'arch': 'blip2', 'model_type': 'pretrain', 'load_pretrained': False, 'freeze_vit': True}, 'datasets': {'coco_caption': {'vis_processor': {'train': {'name': 'blip2_image_train', 'image_size': 224}}, 'text_processor': {'train': {'name': 'blip_caption'}}}, 'vg_caption': {'vis_processor': {'train': {'name': 'blip_image_train', 'image_size': 224}}, 'text_processor': {'train': {'name': 'blip_caption'}}}}, 'run': {'task': 'image_text_pretrain', 'lr_sched': 'linear_warmup_cosine_lr', 'init_lr': 0.0001, 'min_lr': 1e-05, 'warmup_lr': 1e-06, 'weight_decay': 0.05, 'max_epoch': 10, 'batch_size_train': 100, 'batch_size_eval': 64, 'num_workers': 4, 'warmup_steps': 5000, 'seed': 42, 'output_dir': 'output/BLIP2/Pretrain_stage1', 'amp': True, 'resume_ckpt_path': None, 'evaluate': False, 'train_splits': ['train'], 'device': 'cuda', 'world_size': 1, 'dist_url': 'env://', 'distributed': True}}"
      ]
     },
     "execution_count": 1,
     "metadata": {},
     "output_type": "execute_result"
    }
   ],
   "source": [
    "from omegaconf import OmegaConf\n",
    "\n",
    "config = OmegaConf.load('/home/songbo/songbo/NLP_dev/lmm/LAVIS/lavis/projects/blip2/train/pretrain_stage1.yaml')\n",
    "config\n"
   ]
  },
  {
   "cell_type": "code",
   "execution_count": 3,
   "metadata": {},
   "outputs": [
    {
     "name": "stdout",
     "output_type": "stream",
     "text": [
      "coco_caption\n",
      "default\n",
      "{'coco_caption': {'vis_processor': {'train': {'name': 'blip2_image_train', 'image_size': 224}}, 'text_processor': {'train': {'name': 'blip_caption'}}}}\n",
      "vg_caption\n",
      "default\n",
      "{'vg_caption': {'vis_processor': {'train': {'name': 'blip_image_train', 'image_size': 224}}, 'text_processor': {'train': {'name': 'blip_caption'}}}}\n"
     ]
    }
   ],
   "source": [
    "datasets = config.get(\"datasets\", None)\n",
    "dataset_config = OmegaConf.create()\n",
    "dataset_config_path = { \"coco_caption\": \"/home/songbo/songbo/NLP_dev/lmm/LAVIS/lavis/configs/datasets/coco/defaults_cap.yaml\",\n",
    "                       \"vg_caption\": \"/home/songbo/songbo/NLP_dev/lmm/LAVIS/lavis/configs/datasets/vg/defaults_caption.yaml\"}\n",
    "for dataset_name in datasets:\n",
    "    print(dataset_name)\n",
    "    print( datasets[dataset_name].get(\"type\", \"default\"))\n",
    "    print({dataset_name: config[\"datasets\"][dataset_name]})\n",
    "    \n",
    "    dataset_config = OmegaConf.merge(\n",
    "            dataset_config,\n",
    "            OmegaConf.load(dataset_config_path[dataset_name]),\n",
    "            {\"datasets\": {dataset_name: config[\"datasets\"][dataset_name]}},\n",
    "        )"
   ]
  },
  {
   "cell_type": "code",
   "execution_count": null,
   "metadata": {},
   "outputs": [],
   "source": [
    "    dataset_config = OmegaConf.merge(\n",
    "                dataset_config,\n",
    "                OmegaConf.load(dataset_config_path),\n",
    "                {\"datasets\": {dataset_name: config[\"datasets\"][dataset_name]}},\n",
    "            )"
   ]
  },
  {
   "cell_type": "code",
   "execution_count": null,
   "metadata": {},
   "outputs": [],
   "source": []
  }
 ],
 "metadata": {
  "kernelspec": {
   "display_name": "textgen",
   "language": "python",
   "name": "python3"
  },
  "language_info": {
   "codemirror_mode": {
    "name": "ipython",
    "version": 3
   },
   "file_extension": ".py",
   "mimetype": "text/x-python",
   "name": "python",
   "nbconvert_exporter": "python",
   "pygments_lexer": "ipython3",
   "version": "3.8.18"
  },
  "orig_nbformat": 4
 },
 "nbformat": 4,
 "nbformat_minor": 2
}
